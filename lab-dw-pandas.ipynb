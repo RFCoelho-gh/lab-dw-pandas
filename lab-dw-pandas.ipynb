{
 "cells": [
  {
   "cell_type": "markdown",
   "id": "25d7736c-ba17-4aff-b6bb-66eba20fbf4e",
   "metadata": {},
   "source": [
    "# Lab | Pandas"
   ]
  },
  {
   "cell_type": "markdown",
   "id": "d1973e9e-8be6-4039-b70e-d73ee0d94c99",
   "metadata": {},
   "source": [
    "In this lab, we will be working with the customer data from an insurance company, which can be found in the CSV file located at the following link: https://raw.githubusercontent.com/data-bootcamp-v4/data/main/file1.csv\n",
    "\n",
    "The data includes information such as customer ID, state, gender, education, income, and other variables that can be used to perform various analyses.\n",
    "\n",
    "Throughout the lab, we will be using the pandas library in Python to manipulate and analyze the data. Pandas is a powerful library that provides various data manipulation and analysis tools, including the ability to load and manipulate data from a variety of sources, including CSV files."
   ]
  },
  {
   "cell_type": "markdown",
   "id": "8045146f-f4f7-44d9-8cd9-130d6400c73a",
   "metadata": {},
   "source": [
    "### Data Description\n",
    "\n",
    "- Customer - Customer ID\n",
    "\n",
    "- ST - State where customers live\n",
    "\n",
    "- Gender - Gender of the customer\n",
    "\n",
    "- Education - Background education of customers \n",
    "\n",
    "- Customer Lifetime Value - Customer lifetime value(CLV) is the total revenue the client will derive from their entire relationship with a customer. In other words, is the predicted or calculated value of a customer over their entire duration as a policyholder with the insurance company. It is an estimation of the net profit that the insurance company expects to generate from a customer throughout their relationship with the company. Customer Lifetime Value takes into account factors such as the duration of the customer's policy, premium payments, claim history, renewal likelihood, and potential additional services or products the customer may purchase. It helps insurers assess the long-term profitability and value associated with retaining a particular customer.\n",
    "\n",
    "- Income - Customers income\n",
    "\n",
    "- Monthly Premium Auto - Amount of money the customer pays on a monthly basis as a premium for their auto insurance coverage. It represents the recurring cost that the insured person must pay to maintain their insurance policy and receive coverage for potential damages, accidents, or other covered events related to their vehicle.\n",
    "\n",
    "- Number of Open Complaints - Number of complaints the customer opened\n",
    "\n",
    "- Policy Type - There are three type of policies in car insurance (Corporate Auto, Personal Auto, and Special Auto)\n",
    "\n",
    "- Vehicle Class - Type of vehicle classes that customers have Two-Door Car, Four-Door Car SUV, Luxury SUV, Sports Car, and Luxury Car\n",
    "\n",
    "- Total Claim Amount - the sum of all claims made by the customer. It represents the total monetary value of all approved claims for incidents such as accidents, theft, vandalism, or other covered events.\n"
   ]
  },
  {
   "cell_type": "markdown",
   "id": "dc913534-9eeb-4499-8fae-6116275f1519",
   "metadata": {},
   "source": [
    "url = 'https://raw.githubusercontent.com/data-bootcamp-v4/data/main/titanic_train.csv'\n",
    "titanic_series = pd.read_csv(url, usecols=[\"Name\"]).squeeze(\"columns\")"
   ]
  },
  {
   "cell_type": "code",
   "execution_count": 2,
   "id": "5f783d15-1e4e-4795-b1f5-bd8ae1fe526c",
   "metadata": {},
   "outputs": [],
   "source": [
    "import pandas as pd"
   ]
  },
  {
   "cell_type": "code",
   "execution_count": 3,
   "id": "16bf1aa4-7b19-4776-9ac3-467f547eb095",
   "metadata": {},
   "outputs": [],
   "source": [
    "url = 'https://raw.githubusercontent.com/data-bootcamp-v4/data/main/file1.csv'\n",
    "insurance_df = pd.read_csv(url)"
   ]
  },
  {
   "cell_type": "code",
   "execution_count": 4,
   "id": "d1cdceb0-fef7-4d2b-a079-bda104dedc6c",
   "metadata": {},
   "outputs": [],
   "source": [
    "url = 'https://raw.githubusercontent.com/data-bootcamp-v4/data/main/file1.csv'\n",
    "insurance_series = pd.read_csv(url, usecols=[\"Customer\"]).squeeze(\"columns\")"
   ]
  },
  {
   "cell_type": "code",
   "execution_count": 5,
   "id": "fd0f5222-9349-4dc2-a44e-2bbe2471dfaa",
   "metadata": {},
   "outputs": [
    {
     "data": {
      "text/html": [
       "<div>\n",
       "<style scoped>\n",
       "    .dataframe tbody tr th:only-of-type {\n",
       "        vertical-align: middle;\n",
       "    }\n",
       "\n",
       "    .dataframe tbody tr th {\n",
       "        vertical-align: top;\n",
       "    }\n",
       "\n",
       "    .dataframe thead th {\n",
       "        text-align: right;\n",
       "    }\n",
       "</style>\n",
       "<table border=\"1\" class=\"dataframe\">\n",
       "  <thead>\n",
       "    <tr style=\"text-align: right;\">\n",
       "      <th></th>\n",
       "      <th>Customer</th>\n",
       "      <th>ST</th>\n",
       "      <th>GENDER</th>\n",
       "      <th>Education</th>\n",
       "      <th>Customer Lifetime Value</th>\n",
       "      <th>Income</th>\n",
       "      <th>Monthly Premium Auto</th>\n",
       "      <th>Number of Open Complaints</th>\n",
       "      <th>Policy Type</th>\n",
       "      <th>Vehicle Class</th>\n",
       "      <th>Total Claim Amount</th>\n",
       "    </tr>\n",
       "  </thead>\n",
       "  <tbody>\n",
       "    <tr>\n",
       "      <th>0</th>\n",
       "      <td>RB50392</td>\n",
       "      <td>Washington</td>\n",
       "      <td>NaN</td>\n",
       "      <td>Master</td>\n",
       "      <td>NaN</td>\n",
       "      <td>0.0</td>\n",
       "      <td>1000.0</td>\n",
       "      <td>1/0/00</td>\n",
       "      <td>Personal Auto</td>\n",
       "      <td>Four-Door Car</td>\n",
       "      <td>2.704934</td>\n",
       "    </tr>\n",
       "    <tr>\n",
       "      <th>1</th>\n",
       "      <td>QZ44356</td>\n",
       "      <td>Arizona</td>\n",
       "      <td>F</td>\n",
       "      <td>Bachelor</td>\n",
       "      <td>697953.59%</td>\n",
       "      <td>0.0</td>\n",
       "      <td>94.0</td>\n",
       "      <td>1/0/00</td>\n",
       "      <td>Personal Auto</td>\n",
       "      <td>Four-Door Car</td>\n",
       "      <td>1131.464935</td>\n",
       "    </tr>\n",
       "    <tr>\n",
       "      <th>2</th>\n",
       "      <td>AI49188</td>\n",
       "      <td>Nevada</td>\n",
       "      <td>F</td>\n",
       "      <td>Bachelor</td>\n",
       "      <td>1288743.17%</td>\n",
       "      <td>48767.0</td>\n",
       "      <td>108.0</td>\n",
       "      <td>1/0/00</td>\n",
       "      <td>Personal Auto</td>\n",
       "      <td>Two-Door Car</td>\n",
       "      <td>566.472247</td>\n",
       "    </tr>\n",
       "    <tr>\n",
       "      <th>3</th>\n",
       "      <td>WW63253</td>\n",
       "      <td>California</td>\n",
       "      <td>M</td>\n",
       "      <td>Bachelor</td>\n",
       "      <td>764586.18%</td>\n",
       "      <td>0.0</td>\n",
       "      <td>106.0</td>\n",
       "      <td>1/0/00</td>\n",
       "      <td>Corporate Auto</td>\n",
       "      <td>SUV</td>\n",
       "      <td>529.881344</td>\n",
       "    </tr>\n",
       "    <tr>\n",
       "      <th>4</th>\n",
       "      <td>GA49547</td>\n",
       "      <td>Washington</td>\n",
       "      <td>M</td>\n",
       "      <td>High School or Below</td>\n",
       "      <td>536307.65%</td>\n",
       "      <td>36357.0</td>\n",
       "      <td>68.0</td>\n",
       "      <td>1/0/00</td>\n",
       "      <td>Personal Auto</td>\n",
       "      <td>Four-Door Car</td>\n",
       "      <td>17.269323</td>\n",
       "    </tr>\n",
       "  </tbody>\n",
       "</table>\n",
       "</div>"
      ],
      "text/plain": [
       "  Customer          ST GENDER             Education Customer Lifetime Value  \\\n",
       "0  RB50392  Washington    NaN                Master                     NaN   \n",
       "1  QZ44356     Arizona      F              Bachelor              697953.59%   \n",
       "2  AI49188      Nevada      F              Bachelor             1288743.17%   \n",
       "3  WW63253  California      M              Bachelor              764586.18%   \n",
       "4  GA49547  Washington      M  High School or Below              536307.65%   \n",
       "\n",
       "    Income  Monthly Premium Auto Number of Open Complaints     Policy Type  \\\n",
       "0      0.0                1000.0                    1/0/00   Personal Auto   \n",
       "1      0.0                  94.0                    1/0/00   Personal Auto   \n",
       "2  48767.0                 108.0                    1/0/00   Personal Auto   \n",
       "3      0.0                 106.0                    1/0/00  Corporate Auto   \n",
       "4  36357.0                  68.0                    1/0/00   Personal Auto   \n",
       "\n",
       "   Vehicle Class  Total Claim Amount  \n",
       "0  Four-Door Car            2.704934  \n",
       "1  Four-Door Car         1131.464935  \n",
       "2   Two-Door Car          566.472247  \n",
       "3            SUV          529.881344  \n",
       "4  Four-Door Car           17.269323  "
      ]
     },
     "execution_count": 5,
     "metadata": {},
     "output_type": "execute_result"
    }
   ],
   "source": [
    "insurance_df.head(5)"
   ]
  },
  {
   "cell_type": "markdown",
   "id": "3a72419b-20fc-4905-817a-8c83abc59de6",
   "metadata": {},
   "source": [
    "External Resources: https://towardsdatascience.com/filtering-data-frames-in-pandas-b570b1f834b9"
   ]
  },
  {
   "cell_type": "markdown",
   "id": "8f8ece17-e919-4e23-96c0-c7c59778436a",
   "metadata": {},
   "source": [
    "## Challenge 1: Understanding the data\n",
    "\n",
    "In this challenge, you will use pandas to explore a given dataset. Your task is to gain a deep understanding of the data by analyzing its characteristics, dimensions, and statistical properties."
   ]
  },
  {
   "cell_type": "markdown",
   "id": "91437bd5-59a6-49c0-8150-ef0e6e6eb253",
   "metadata": {},
   "source": [
    "- 1) Identify the dimensions of the dataset by determining the number of rows and columns it contains.\n",
    "- 2) Determine the data types of each column and evaluate whether they are appropriate for the nature of the variable. You should also provide suggestions for fixing any incorrect data types.\n",
    "- 3) Identify the number of unique values for each column and determine which columns appear to be categorical. You should also describe the unique values of each categorical column and the range of values for numerical columns, and give your insights.\n",
    "- 4) Compute summary statistics such as mean, median, mode, standard deviation, and quartiles to understand the central tendency and distribution of the data for numerical columns. You should also provide your conclusions based on these summary statistics.\n",
    "- 5) Compute summary statistics for categorical columns and providing your conclusions based on these statistics."
   ]
  },
  {
   "cell_type": "code",
   "execution_count": 6,
   "id": "dd4e8cd8-a6f6-486c-a5c4-1745b0c035f4",
   "metadata": {},
   "outputs": [
    {
     "data": {
      "text/plain": [
       "(4008, 11)"
      ]
     },
     "execution_count": 6,
     "metadata": {},
     "output_type": "execute_result"
    }
   ],
   "source": [
    "## Your code here\n",
    "## Ex 1.1\n",
    "\n",
    "insurance_df.shape\n",
    "\n",
    "## There are 4008 rows and 11 columns"
   ]
  },
  {
   "cell_type": "code",
   "execution_count": 7,
   "id": "9539aee5-6346-4a31-a028-f70cac7ad2c0",
   "metadata": {},
   "outputs": [],
   "source": [
    "## Ex 1.2, Part A"
   ]
  },
  {
   "cell_type": "markdown",
   "id": "7ea14d02-695a-419a-ad1f-27206c069a6f",
   "metadata": {},
   "source": [
    "**Customer** -> Unique ID of Customer; categorical data stored stored as Object(String)\n",
    "\n",
    "**ST** -> American State of Residence, of Customer; categorical data stored as Object(String)\n",
    "\n",
    "**GENDER** -> Gender of Customer; categorical data stored as Object(String)\n",
    "\n",
    "**Education** -> Highest degree of education of Customer; categorical data stored as Object(String)\n",
    "\n",
    "**Customer Lifetime Value** -> Amount of Gewinn made on said Customer, in percentage; numerical data apparently stored as Object(String)\n",
    "\n",
    "**Income** -> Yearly Income of Customer; numerical data stored as Float\n",
    "\n",
    "**Monthly Premium Auto** -> Monthly Fee acquired from the Customer; numerical data saved as stored as Float\n",
    "\n",
    "**Number of Open Complaints** -> Amount of Open Complaints of a said Customer; numerical data saved as Object(String)\n",
    "\n",
    "**Vehicle Class** -> The Category of Product(Car) used by the Customer; categorical data saved as Object(String)\n",
    "\n",
    "**Total Claim Amount** -> The value sum of all claims of a Customer; numerical data save as Float"
   ]
  },
  {
   "cell_type": "code",
   "execution_count": 8,
   "id": "f838dda2-36f8-4e39-a505-430399c02eb6",
   "metadata": {},
   "outputs": [],
   "source": [
    "## Ex 1.2, Part B"
   ]
  },
  {
   "cell_type": "markdown",
   "id": "050e0b2a-551f-4a6c-a5f7-602abefeb320",
   "metadata": {},
   "source": [
    "**Customer** -> Contains null values, they should be replaced with dummy ID\n",
    "\n",
    "**ST** -> There is no convention as to the naming, therefore some states are stated multiple times. Example: California and Cali. We could identify all potential variants and transform them into California. This could be done with a loop.\n",
    "\n",
    "**GENDER** -> As with the previous category, the entries have been done in many variant ways. We should identify and aggregate them.\n",
    "\n",
    "**Education** -> A few duplicate categories and null values. The former can be aggreg, and the rest ignored.\n",
    "\n",
    "**Customer Lifetime Value** -> Due to the percentage sign, these seem to be unfortunely stored as Object(String), making an assessment of them impsosible without transforming the data first. We could slice the % values of and then divide them by 100 to get a compatbile float, which could interact with the other numerical data, at which point it would be move to the numerical_variables group, as it should.\n",
    "\n",
    "**All Numerical Data** -> Only a fraction (1/4) of the data seems to have non-null entries, which heavely skews the data due to the blindspot. At this point it is the best to leave the 3/4 out of it and analyse what we have.\n",
    "\n",
    "**Income** -> There seem to be a significant amount of entries equal to 0 or otherwise very low, which are suspicious. These should examined\n",
    "\n",
    "**Vehicle Class** -> A few nulls, otherwise okay.\n",
    "\n",
    "**Number of Open Complaints** -> Seems to be in a specific data format, which unfortunely would have to be transformed into integers before they can be better handled. However, despite its state, it can already be read in a limited faction. To solve this, we could see the pattern of this format, and slice the data that we want out of it . In this case, any integer between the /, as in YY/x/YY.\n"
   ]
  },
  {
   "cell_type": "code",
   "execution_count": 9,
   "id": "eadb9ee5-b52b-486d-93e0-82fa25818963",
   "metadata": {},
   "outputs": [
    {
     "data": {
      "text/plain": [
       "Customer                     1071\n",
       "ST                              8\n",
       "GENDER                          5\n",
       "Education                       6\n",
       "Customer Lifetime Value      1027\n",
       "Income                        774\n",
       "Monthly Premium Auto          132\n",
       "Number of Open Complaints       6\n",
       "Policy Type                     3\n",
       "Vehicle Class                   6\n",
       "Total Claim Amount            761\n",
       "dtype: int64"
      ]
     },
     "execution_count": 9,
     "metadata": {},
     "output_type": "execute_result"
    }
   ],
   "source": [
    "## Ex 1.3\n",
    "\n",
    "insurance_df.nunique()"
   ]
  },
  {
   "cell_type": "code",
   "execution_count": 10,
   "id": "ae59485e-36eb-49d4-875c-fc010dbd914f",
   "metadata": {},
   "outputs": [
    {
     "data": {
      "text/html": [
       "<div>\n",
       "<style scoped>\n",
       "    .dataframe tbody tr th:only-of-type {\n",
       "        vertical-align: middle;\n",
       "    }\n",
       "\n",
       "    .dataframe tbody tr th {\n",
       "        vertical-align: top;\n",
       "    }\n",
       "\n",
       "    .dataframe thead th {\n",
       "        text-align: right;\n",
       "    }\n",
       "</style>\n",
       "<table border=\"1\" class=\"dataframe\">\n",
       "  <thead>\n",
       "    <tr style=\"text-align: right;\">\n",
       "      <th></th>\n",
       "      <th>Customer</th>\n",
       "      <th>ST</th>\n",
       "      <th>GENDER</th>\n",
       "      <th>Education</th>\n",
       "      <th>Customer Lifetime Value</th>\n",
       "      <th>Policy Type</th>\n",
       "      <th>Vehicle Class</th>\n",
       "      <th>Number of Open Complaints</th>\n",
       "    </tr>\n",
       "  </thead>\n",
       "  <tbody>\n",
       "    <tr>\n",
       "      <th>0</th>\n",
       "      <td>RB50392</td>\n",
       "      <td>Washington</td>\n",
       "      <td>NaN</td>\n",
       "      <td>Master</td>\n",
       "      <td>NaN</td>\n",
       "      <td>Personal Auto</td>\n",
       "      <td>Four-Door Car</td>\n",
       "      <td>1/0/00</td>\n",
       "    </tr>\n",
       "    <tr>\n",
       "      <th>1</th>\n",
       "      <td>QZ44356</td>\n",
       "      <td>Arizona</td>\n",
       "      <td>F</td>\n",
       "      <td>Bachelor</td>\n",
       "      <td>697953.59%</td>\n",
       "      <td>Personal Auto</td>\n",
       "      <td>Four-Door Car</td>\n",
       "      <td>1/0/00</td>\n",
       "    </tr>\n",
       "    <tr>\n",
       "      <th>2</th>\n",
       "      <td>AI49188</td>\n",
       "      <td>Nevada</td>\n",
       "      <td>F</td>\n",
       "      <td>Bachelor</td>\n",
       "      <td>1288743.17%</td>\n",
       "      <td>Personal Auto</td>\n",
       "      <td>Two-Door Car</td>\n",
       "      <td>1/0/00</td>\n",
       "    </tr>\n",
       "    <tr>\n",
       "      <th>3</th>\n",
       "      <td>WW63253</td>\n",
       "      <td>California</td>\n",
       "      <td>M</td>\n",
       "      <td>Bachelor</td>\n",
       "      <td>764586.18%</td>\n",
       "      <td>Corporate Auto</td>\n",
       "      <td>SUV</td>\n",
       "      <td>1/0/00</td>\n",
       "    </tr>\n",
       "    <tr>\n",
       "      <th>4</th>\n",
       "      <td>GA49547</td>\n",
       "      <td>Washington</td>\n",
       "      <td>M</td>\n",
       "      <td>High School or Below</td>\n",
       "      <td>536307.65%</td>\n",
       "      <td>Personal Auto</td>\n",
       "      <td>Four-Door Car</td>\n",
       "      <td>1/0/00</td>\n",
       "    </tr>\n",
       "    <tr>\n",
       "      <th>...</th>\n",
       "      <td>...</td>\n",
       "      <td>...</td>\n",
       "      <td>...</td>\n",
       "      <td>...</td>\n",
       "      <td>...</td>\n",
       "      <td>...</td>\n",
       "      <td>...</td>\n",
       "      <td>...</td>\n",
       "    </tr>\n",
       "    <tr>\n",
       "      <th>4003</th>\n",
       "      <td>NaN</td>\n",
       "      <td>NaN</td>\n",
       "      <td>NaN</td>\n",
       "      <td>NaN</td>\n",
       "      <td>NaN</td>\n",
       "      <td>NaN</td>\n",
       "      <td>NaN</td>\n",
       "      <td>NaN</td>\n",
       "    </tr>\n",
       "    <tr>\n",
       "      <th>4004</th>\n",
       "      <td>NaN</td>\n",
       "      <td>NaN</td>\n",
       "      <td>NaN</td>\n",
       "      <td>NaN</td>\n",
       "      <td>NaN</td>\n",
       "      <td>NaN</td>\n",
       "      <td>NaN</td>\n",
       "      <td>NaN</td>\n",
       "    </tr>\n",
       "    <tr>\n",
       "      <th>4005</th>\n",
       "      <td>NaN</td>\n",
       "      <td>NaN</td>\n",
       "      <td>NaN</td>\n",
       "      <td>NaN</td>\n",
       "      <td>NaN</td>\n",
       "      <td>NaN</td>\n",
       "      <td>NaN</td>\n",
       "      <td>NaN</td>\n",
       "    </tr>\n",
       "    <tr>\n",
       "      <th>4006</th>\n",
       "      <td>NaN</td>\n",
       "      <td>NaN</td>\n",
       "      <td>NaN</td>\n",
       "      <td>NaN</td>\n",
       "      <td>NaN</td>\n",
       "      <td>NaN</td>\n",
       "      <td>NaN</td>\n",
       "      <td>NaN</td>\n",
       "    </tr>\n",
       "    <tr>\n",
       "      <th>4007</th>\n",
       "      <td>NaN</td>\n",
       "      <td>NaN</td>\n",
       "      <td>NaN</td>\n",
       "      <td>NaN</td>\n",
       "      <td>NaN</td>\n",
       "      <td>NaN</td>\n",
       "      <td>NaN</td>\n",
       "      <td>NaN</td>\n",
       "    </tr>\n",
       "  </tbody>\n",
       "</table>\n",
       "<p>4008 rows × 8 columns</p>\n",
       "</div>"
      ],
      "text/plain": [
       "     Customer          ST GENDER             Education  \\\n",
       "0     RB50392  Washington    NaN                Master   \n",
       "1     QZ44356     Arizona      F              Bachelor   \n",
       "2     AI49188      Nevada      F              Bachelor   \n",
       "3     WW63253  California      M              Bachelor   \n",
       "4     GA49547  Washington      M  High School or Below   \n",
       "...       ...         ...    ...                   ...   \n",
       "4003      NaN         NaN    NaN                   NaN   \n",
       "4004      NaN         NaN    NaN                   NaN   \n",
       "4005      NaN         NaN    NaN                   NaN   \n",
       "4006      NaN         NaN    NaN                   NaN   \n",
       "4007      NaN         NaN    NaN                   NaN   \n",
       "\n",
       "     Customer Lifetime Value     Policy Type  Vehicle Class  \\\n",
       "0                        NaN   Personal Auto  Four-Door Car   \n",
       "1                 697953.59%   Personal Auto  Four-Door Car   \n",
       "2                1288743.17%   Personal Auto   Two-Door Car   \n",
       "3                 764586.18%  Corporate Auto            SUV   \n",
       "4                 536307.65%   Personal Auto  Four-Door Car   \n",
       "...                      ...             ...            ...   \n",
       "4003                     NaN             NaN            NaN   \n",
       "4004                     NaN             NaN            NaN   \n",
       "4005                     NaN             NaN            NaN   \n",
       "4006                     NaN             NaN            NaN   \n",
       "4007                     NaN             NaN            NaN   \n",
       "\n",
       "     Number of Open Complaints  \n",
       "0                       1/0/00  \n",
       "1                       1/0/00  \n",
       "2                       1/0/00  \n",
       "3                       1/0/00  \n",
       "4                       1/0/00  \n",
       "...                        ...  \n",
       "4003                       NaN  \n",
       "4004                       NaN  \n",
       "4005                       NaN  \n",
       "4006                       NaN  \n",
       "4007                       NaN  \n",
       "\n",
       "[4008 rows x 8 columns]"
      ]
     },
     "execution_count": 10,
     "metadata": {},
     "output_type": "execute_result"
    }
   ],
   "source": [
    "## Categorical Data -> Customer, ST, GENDER, Education, Policy Type, Vehicle Class\n",
    "\n",
    "categorical_variables = [\"Customer\",\"ST\",\"GENDER\",\"Education\",\"Customer Lifetime Value\",\"Policy Type\", \"Vehicle Class\", \"Number of Open Complaints\"]\n",
    "insurance_df[categorical_variables]"
   ]
  },
  {
   "cell_type": "code",
   "execution_count": 11,
   "id": "f9f231c5-ef34-4f06-b5fe-c6130ca9f761",
   "metadata": {},
   "outputs": [
    {
     "data": {
      "text/plain": [
       "array(['RB50392', 'QZ44356', 'AI49188', ..., 'CW49887', 'MY31220', nan],\n",
       "      dtype=object)"
      ]
     },
     "execution_count": 11,
     "metadata": {},
     "output_type": "execute_result"
    }
   ],
   "source": [
    "#insurance_df[categorical_variables].unique()\n",
    "\n",
    "insurance_df.Customer.unique()"
   ]
  },
  {
   "cell_type": "code",
   "execution_count": 12,
   "id": "beb70c62-54a3-465b-9a57-88d584f354bd",
   "metadata": {},
   "outputs": [
    {
     "name": "stdout",
     "output_type": "stream",
     "text": [
      "Start of unique values of Customer:\n",
      "['RB50392' 'QZ44356' 'AI49188' ... 'CW49887' 'MY31220' nan]\n",
      "---------------\n",
      "Start of unique values of ST:\n",
      "['Washington' 'Arizona' 'Nevada' 'California' 'Oregon' 'Cali' 'AZ' 'WA'\n",
      " nan]\n",
      "---------------\n",
      "Start of unique values of GENDER:\n",
      "[nan 'F' 'M' 'Femal' 'Male' 'female']\n",
      "---------------\n",
      "Start of unique values of Education:\n",
      "['Master' 'Bachelor' 'High School or Below' 'College' 'Bachelors' 'Doctor'\n",
      " nan]\n",
      "---------------\n",
      "Start of unique values of Customer Lifetime Value:\n",
      "[nan '697953.59%' '1288743.17%' ... '2031499.76%' '323912.47%'\n",
      " '899704.02%']\n",
      "---------------\n",
      "Start of unique values of Policy Type:\n",
      "['Personal Auto' 'Corporate Auto' 'Special Auto' nan]\n",
      "---------------\n",
      "Start of unique values of Vehicle Class:\n",
      "['Four-Door Car' 'Two-Door Car' 'SUV' 'Luxury SUV' 'Sports Car'\n",
      " 'Luxury Car' nan]\n",
      "---------------\n",
      "Start of unique values of Number of Open Complaints:\n",
      "['1/0/00' '1/2/00' '1/1/00' '1/3/00' '1/5/00' '1/4/00' nan]\n",
      "---------------\n"
     ]
    }
   ],
   "source": [
    "## Getting unique values of all Categorical Columns\n",
    "\n",
    "for i in categorical_variables:\n",
    "    print(f\"Start of unique values of {i}:\")\n",
    "    print(insurance_df[i].unique())\n",
    "    print(f\"---------------\")"
   ]
  },
  {
   "cell_type": "code",
   "execution_count": 13,
   "id": "be637399-f44e-4f85-9568-6ff6861e6b28",
   "metadata": {},
   "outputs": [
    {
     "name": "stdout",
     "output_type": "stream",
     "text": [
      "Start of amount per value of Customer:\n",
      "Customer\n",
      "RB50392    1\n",
      "HJ15383    1\n",
      "AO74776    1\n",
      "HQ82233    1\n",
      "OL72737    1\n",
      "          ..\n",
      "RO26085    1\n",
      "ES57969    1\n",
      "JK55587    1\n",
      "RN97635    1\n",
      "MY31220    1\n",
      "Name: count, Length: 1071, dtype: int64\n",
      "---------------\n",
      "Start of amount per value of ST:\n",
      "ST\n",
      "Oregon        320\n",
      "California    211\n",
      "Arizona       186\n",
      "Cali          120\n",
      "Nevada         98\n",
      "Washington     81\n",
      "WA             30\n",
      "AZ             25\n",
      "Name: count, dtype: int64\n",
      "---------------\n",
      "Start of amount per value of GENDER:\n",
      "GENDER\n",
      "F         457\n",
      "M         413\n",
      "Male       39\n",
      "female     28\n",
      "Femal      17\n",
      "Name: count, dtype: int64\n",
      "---------------\n",
      "Start of amount per value of Education:\n",
      "Education\n",
      "Bachelor                324\n",
      "College                 313\n",
      "High School or Below    296\n",
      "Master                   94\n",
      "Doctor                   37\n",
      "Bachelors                 7\n",
      "Name: count, dtype: int64\n",
      "---------------\n",
      "Start of amount per value of Customer Lifetime Value:\n",
      "Customer Lifetime Value\n",
      "445811.34%     4\n",
      "251459.20%     4\n",
      "272535.64%     3\n",
      "578018.22%     3\n",
      "684615.03%     3\n",
      "              ..\n",
      "245357.08%     1\n",
      "507566.27%     1\n",
      "321497.94%     1\n",
      "1227534.31%    1\n",
      "899704.02%     1\n",
      "Name: count, Length: 1027, dtype: int64\n",
      "---------------\n",
      "Start of amount per value of Policy Type:\n",
      "Policy Type\n",
      "Personal Auto     780\n",
      "Corporate Auto    234\n",
      "Special Auto       57\n",
      "Name: count, dtype: int64\n",
      "---------------\n",
      "Start of amount per value of Vehicle Class:\n",
      "Vehicle Class\n",
      "Four-Door Car    576\n",
      "Two-Door Car     205\n",
      "SUV              199\n",
      "Sports Car        57\n",
      "Luxury SUV        20\n",
      "Luxury Car        14\n",
      "Name: count, dtype: int64\n",
      "---------------\n",
      "Start of amount per value of Number of Open Complaints:\n",
      "Number of Open Complaints\n",
      "1/0/00    830\n",
      "1/1/00    138\n",
      "1/2/00     50\n",
      "1/3/00     34\n",
      "1/4/00     13\n",
      "1/5/00      6\n",
      "Name: count, dtype: int64\n",
      "---------------\n"
     ]
    }
   ],
   "source": [
    "# Display unique values and their frequency counts for each categorical variable\n",
    "for j in categorical_variables:\n",
    "    print(f\"Start of amount per value of {j}:\")\n",
    "    print(insurance_df[j].value_counts())\n",
    "    print(f\"---------------\")"
   ]
  },
  {
   "cell_type": "code",
   "execution_count": 14,
   "id": "c7421895-e5f5-4724-9a00-932452201988",
   "metadata": {},
   "outputs": [
    {
     "data": {
      "text/html": [
       "<div>\n",
       "<style scoped>\n",
       "    .dataframe tbody tr th:only-of-type {\n",
       "        vertical-align: middle;\n",
       "    }\n",
       "\n",
       "    .dataframe tbody tr th {\n",
       "        vertical-align: top;\n",
       "    }\n",
       "\n",
       "    .dataframe thead th {\n",
       "        text-align: right;\n",
       "    }\n",
       "</style>\n",
       "<table border=\"1\" class=\"dataframe\">\n",
       "  <thead>\n",
       "    <tr style=\"text-align: right;\">\n",
       "      <th></th>\n",
       "      <th>Income</th>\n",
       "      <th>Monthly Premium Auto</th>\n",
       "      <th>Total Claim Amount</th>\n",
       "    </tr>\n",
       "  </thead>\n",
       "  <tbody>\n",
       "    <tr>\n",
       "      <th>0</th>\n",
       "      <td>0.0</td>\n",
       "      <td>1000.0</td>\n",
       "      <td>2.704934</td>\n",
       "    </tr>\n",
       "    <tr>\n",
       "      <th>1</th>\n",
       "      <td>0.0</td>\n",
       "      <td>94.0</td>\n",
       "      <td>1131.464935</td>\n",
       "    </tr>\n",
       "    <tr>\n",
       "      <th>2</th>\n",
       "      <td>48767.0</td>\n",
       "      <td>108.0</td>\n",
       "      <td>566.472247</td>\n",
       "    </tr>\n",
       "    <tr>\n",
       "      <th>3</th>\n",
       "      <td>0.0</td>\n",
       "      <td>106.0</td>\n",
       "      <td>529.881344</td>\n",
       "    </tr>\n",
       "    <tr>\n",
       "      <th>4</th>\n",
       "      <td>36357.0</td>\n",
       "      <td>68.0</td>\n",
       "      <td>17.269323</td>\n",
       "    </tr>\n",
       "    <tr>\n",
       "      <th>...</th>\n",
       "      <td>...</td>\n",
       "      <td>...</td>\n",
       "      <td>...</td>\n",
       "    </tr>\n",
       "    <tr>\n",
       "      <th>4003</th>\n",
       "      <td>NaN</td>\n",
       "      <td>NaN</td>\n",
       "      <td>NaN</td>\n",
       "    </tr>\n",
       "    <tr>\n",
       "      <th>4004</th>\n",
       "      <td>NaN</td>\n",
       "      <td>NaN</td>\n",
       "      <td>NaN</td>\n",
       "    </tr>\n",
       "    <tr>\n",
       "      <th>4005</th>\n",
       "      <td>NaN</td>\n",
       "      <td>NaN</td>\n",
       "      <td>NaN</td>\n",
       "    </tr>\n",
       "    <tr>\n",
       "      <th>4006</th>\n",
       "      <td>NaN</td>\n",
       "      <td>NaN</td>\n",
       "      <td>NaN</td>\n",
       "    </tr>\n",
       "    <tr>\n",
       "      <th>4007</th>\n",
       "      <td>NaN</td>\n",
       "      <td>NaN</td>\n",
       "      <td>NaN</td>\n",
       "    </tr>\n",
       "  </tbody>\n",
       "</table>\n",
       "<p>4008 rows × 3 columns</p>\n",
       "</div>"
      ],
      "text/plain": [
       "       Income  Monthly Premium Auto  Total Claim Amount\n",
       "0         0.0                1000.0            2.704934\n",
       "1         0.0                  94.0         1131.464935\n",
       "2     48767.0                 108.0          566.472247\n",
       "3         0.0                 106.0          529.881344\n",
       "4     36357.0                  68.0           17.269323\n",
       "...       ...                   ...                 ...\n",
       "4003      NaN                   NaN                 NaN\n",
       "4004      NaN                   NaN                 NaN\n",
       "4005      NaN                   NaN                 NaN\n",
       "4006      NaN                   NaN                 NaN\n",
       "4007      NaN                   NaN                 NaN\n",
       "\n",
       "[4008 rows x 3 columns]"
      ]
     },
     "execution_count": 14,
     "metadata": {},
     "output_type": "execute_result"
    }
   ],
   "source": [
    "numerical_variables = [\"Income\", \"Monthly Premium Auto\", \"Total Claim Amount\"]\n",
    "insurance_df[numerical_variables]"
   ]
  },
  {
   "cell_type": "code",
   "execution_count": 15,
   "id": "e360b54a-9d2b-4366-ae9c-0429b39307a5",
   "metadata": {},
   "outputs": [
    {
     "data": {
      "text/html": [
       "<div>\n",
       "<style scoped>\n",
       "    .dataframe tbody tr th:only-of-type {\n",
       "        vertical-align: middle;\n",
       "    }\n",
       "\n",
       "    .dataframe tbody tr th {\n",
       "        vertical-align: top;\n",
       "    }\n",
       "\n",
       "    .dataframe thead th {\n",
       "        text-align: right;\n",
       "    }\n",
       "</style>\n",
       "<table border=\"1\" class=\"dataframe\">\n",
       "  <thead>\n",
       "    <tr style=\"text-align: right;\">\n",
       "      <th></th>\n",
       "      <th>Income</th>\n",
       "      <th>Monthly Premium Auto</th>\n",
       "      <th>Total Claim Amount</th>\n",
       "    </tr>\n",
       "  </thead>\n",
       "  <tbody>\n",
       "    <tr>\n",
       "      <th>count</th>\n",
       "      <td>1071.000000</td>\n",
       "      <td>1071.000000</td>\n",
       "      <td>1071.000000</td>\n",
       "    </tr>\n",
       "    <tr>\n",
       "      <th>mean</th>\n",
       "      <td>39295.701214</td>\n",
       "      <td>193.234360</td>\n",
       "      <td>404.986909</td>\n",
       "    </tr>\n",
       "    <tr>\n",
       "      <th>std</th>\n",
       "      <td>30469.427060</td>\n",
       "      <td>1601.190369</td>\n",
       "      <td>293.027260</td>\n",
       "    </tr>\n",
       "    <tr>\n",
       "      <th>min</th>\n",
       "      <td>0.000000</td>\n",
       "      <td>61.000000</td>\n",
       "      <td>0.382107</td>\n",
       "    </tr>\n",
       "    <tr>\n",
       "      <th>25%</th>\n",
       "      <td>14072.000000</td>\n",
       "      <td>68.000000</td>\n",
       "      <td>202.157702</td>\n",
       "    </tr>\n",
       "    <tr>\n",
       "      <th>50%</th>\n",
       "      <td>36234.000000</td>\n",
       "      <td>83.000000</td>\n",
       "      <td>354.729129</td>\n",
       "    </tr>\n",
       "    <tr>\n",
       "      <th>75%</th>\n",
       "      <td>64631.000000</td>\n",
       "      <td>109.500000</td>\n",
       "      <td>532.800000</td>\n",
       "    </tr>\n",
       "    <tr>\n",
       "      <th>max</th>\n",
       "      <td>99960.000000</td>\n",
       "      <td>35354.000000</td>\n",
       "      <td>2893.239678</td>\n",
       "    </tr>\n",
       "  </tbody>\n",
       "</table>\n",
       "</div>"
      ],
      "text/plain": [
       "             Income  Monthly Premium Auto  Total Claim Amount\n",
       "count   1071.000000           1071.000000         1071.000000\n",
       "mean   39295.701214            193.234360          404.986909\n",
       "std    30469.427060           1601.190369          293.027260\n",
       "min        0.000000             61.000000            0.382107\n",
       "25%    14072.000000             68.000000          202.157702\n",
       "50%    36234.000000             83.000000          354.729129\n",
       "75%    64631.000000            109.500000          532.800000\n",
       "max    99960.000000          35354.000000         2893.239678"
      ]
     },
     "execution_count": 15,
     "metadata": {},
     "output_type": "execute_result"
    }
   ],
   "source": [
    "## Ex 1.3 continued\n",
    "\n",
    "insurance_df[numerical_variables].describe()\n",
    "\n",
    "### MEAN = AVERAGE"
   ]
  },
  {
   "cell_type": "code",
   "execution_count": 16,
   "id": "8ba048ac-03d4-430e-bddb-bb9370bdd81b",
   "metadata": {},
   "outputs": [
    {
     "name": "stdout",
     "output_type": "stream",
     "text": [
      "Start of amount per value of Income:\n",
      "Income\n",
      "0.0        252\n",
      "43860.0      4\n",
      "17622.0      4\n",
      "36650.0      3\n",
      "14072.0      3\n",
      "          ... \n",
      "29486.0      1\n",
      "58557.0      1\n",
      "25632.0      1\n",
      "18768.0      1\n",
      "54230.0      1\n",
      "Name: count, Length: 774, dtype: int64\n",
      "---------------\n",
      "Start of amount per value of Monthly Premium Auto:\n",
      "Monthly Premium Auto\n",
      "65.0     47\n",
      "63.0     39\n",
      "71.0     37\n",
      "67.0     37\n",
      "73.0     37\n",
      "         ..\n",
      "177.0     1\n",
      "181.0     1\n",
      "276.0     1\n",
      "253.0     1\n",
      "199.0     1\n",
      "Name: count, Length: 132, dtype: int64\n",
      "---------------\n",
      "Start of amount per value of Total Claim Amount:\n",
      "Total Claim Amount\n",
      "321.600000    19\n",
      "331.200000    15\n",
      "312.000000    14\n",
      "350.400000    14\n",
      "316.800000    12\n",
      "              ..\n",
      "421.484456     1\n",
      "430.505942     1\n",
      "7.646763       1\n",
      "55.510526      1\n",
      "207.320041     1\n",
      "Name: count, Length: 761, dtype: int64\n",
      "---------------\n"
     ]
    }
   ],
   "source": [
    "for h in numerical_variables:\n",
    "    print(f\"Start of amount per value of {h}:\")\n",
    "    print(insurance_df[h].value_counts())\n",
    "    print(f\"---------------\")"
   ]
  },
  {
   "cell_type": "markdown",
   "id": "d5777986-f5f6-4582-a006-64a3f5df9491",
   "metadata": {},
   "source": [
    "- Compute summary statistics such as mean, median, mode, standard deviation, and quartiles to understand the central tendency and distribution of the data for numerical columns. You should also provide your conclusions based on these summary statistics."
   ]
  },
  {
   "cell_type": "code",
   "execution_count": 17,
   "id": "9d6f5bfd-e36a-4bdf-9c68-db31739d8db5",
   "metadata": {},
   "outputs": [],
   "source": [
    "## Ex 1.4"
   ]
  },
  {
   "cell_type": "markdown",
   "id": "4f7784d6-4b10-416d-bf68-706317b26f13",
   "metadata": {},
   "source": [
    "- The average income of a customer is 39.294,70 €, with the median being 36.234,00 €\n",
    "- Half of the customer had made at least 532.80 € (median) out of their claims.\n"
   ]
  },
  {
   "cell_type": "code",
   "execution_count": 18,
   "id": "4140192e-384f-4e13-a914-5ea8349d8b0b",
   "metadata": {},
   "outputs": [],
   "source": [
    "## Ex 1.5"
   ]
  },
  {
   "cell_type": "markdown",
   "id": "bfe340b1-4f35-469f-b5b8-dab8e5e52bfc",
   "metadata": {},
   "source": [
    "a"
   ]
  },
  {
   "cell_type": "markdown",
   "id": "4a703890-63db-4944-b7ab-95a4f8185120",
   "metadata": {},
   "source": [
    "## Challenge 2: analyzing the data"
   ]
  },
  {
   "cell_type": "markdown",
   "id": "0776a403-c56a-452f-ac33-5fd4fdb06fc7",
   "metadata": {},
   "source": [
    "### Exercise 1"
   ]
  },
  {
   "cell_type": "markdown",
   "id": "eedbc484-da4d-4f9c-9343-e1d44311a87e",
   "metadata": {},
   "source": [
    "The marketing team wants to know the top 5 less common customer locations. Create a pandas Series object that contains the customer locations and their frequencies, and then retrieve the top 5 less common locations in ascending order."
   ]
  },
  {
   "cell_type": "code",
   "execution_count": 19,
   "id": "2dca5073-4520-4f42-9390-4b92733284ed",
   "metadata": {},
   "outputs": [
    {
     "data": {
      "text/plain": [
       "ST\n",
       "Oregon        320\n",
       "California    211\n",
       "Arizona       186\n",
       "Cali          120\n",
       "Nevada         98\n",
       "Washington     81\n",
       "WA             30\n",
       "AZ             25\n",
       "Name: count, dtype: int64"
      ]
     },
     "execution_count": 19,
     "metadata": {},
     "output_type": "execute_result"
    }
   ],
   "source": [
    "# Your code here\n",
    "\n",
    "insurance_df[\"ST\"].value_counts()\n",
    "\n",
    "## insurance_df[\"ST\"].value_counts().tail(5)"
   ]
  },
  {
   "cell_type": "code",
   "execution_count": 20,
   "id": "7860ce9b-4fb4-407f-81fd-11a89cf5d2da",
   "metadata": {},
   "outputs": [
    {
     "data": {
      "text/html": [
       "<div>\n",
       "<style scoped>\n",
       "    .dataframe tbody tr th:only-of-type {\n",
       "        vertical-align: middle;\n",
       "    }\n",
       "\n",
       "    .dataframe tbody tr th {\n",
       "        vertical-align: top;\n",
       "    }\n",
       "\n",
       "    .dataframe thead th {\n",
       "        text-align: right;\n",
       "    }\n",
       "</style>\n",
       "<table border=\"1\" class=\"dataframe\">\n",
       "  <thead>\n",
       "    <tr style=\"text-align: right;\">\n",
       "      <th></th>\n",
       "      <th>state</th>\n",
       "      <th>count</th>\n",
       "    </tr>\n",
       "  </thead>\n",
       "  <tbody>\n",
       "    <tr>\n",
       "      <th>0</th>\n",
       "      <td>Oregon</td>\n",
       "      <td>320</td>\n",
       "    </tr>\n",
       "    <tr>\n",
       "      <th>1</th>\n",
       "      <td>California</td>\n",
       "      <td>331</td>\n",
       "    </tr>\n",
       "    <tr>\n",
       "      <th>2</th>\n",
       "      <td>Arizona</td>\n",
       "      <td>211</td>\n",
       "    </tr>\n",
       "    <tr>\n",
       "      <th>3</th>\n",
       "      <td>Nevada</td>\n",
       "      <td>98</td>\n",
       "    </tr>\n",
       "    <tr>\n",
       "      <th>4</th>\n",
       "      <td>Washington</td>\n",
       "      <td>111</td>\n",
       "    </tr>\n",
       "  </tbody>\n",
       "</table>\n",
       "</div>"
      ],
      "text/plain": [
       "        state  count\n",
       "0      Oregon    320\n",
       "1  California    331\n",
       "2     Arizona    211\n",
       "3      Nevada     98\n",
       "4  Washington    111"
      ]
     },
     "execution_count": 20,
     "metadata": {},
     "output_type": "execute_result"
    }
   ],
   "source": [
    "d1 = {\"state\": [\"Oregon\", \"California\", \"Arizona\", \"Nevada\", \"Washington\"],\n",
    "     \"count\": [320,211+120,186+25,98,81+30]\n",
    "}\n",
    "\n",
    "mkt_d1 = pd.DataFrame(d1)\n",
    "mkt_d1"
   ]
  },
  {
   "cell_type": "code",
   "execution_count": 21,
   "id": "d7e2e077-18ac-4991-8fe3-916761e46c25",
   "metadata": {},
   "outputs": [
    {
     "data": {
      "text/html": [
       "<div>\n",
       "<style scoped>\n",
       "    .dataframe tbody tr th:only-of-type {\n",
       "        vertical-align: middle;\n",
       "    }\n",
       "\n",
       "    .dataframe tbody tr th {\n",
       "        vertical-align: top;\n",
       "    }\n",
       "\n",
       "    .dataframe thead th {\n",
       "        text-align: right;\n",
       "    }\n",
       "</style>\n",
       "<table border=\"1\" class=\"dataframe\">\n",
       "  <thead>\n",
       "    <tr style=\"text-align: right;\">\n",
       "      <th></th>\n",
       "      <th>state</th>\n",
       "      <th>count</th>\n",
       "    </tr>\n",
       "  </thead>\n",
       "  <tbody>\n",
       "    <tr>\n",
       "      <th>3</th>\n",
       "      <td>Nevada</td>\n",
       "      <td>98</td>\n",
       "    </tr>\n",
       "    <tr>\n",
       "      <th>4</th>\n",
       "      <td>Washington</td>\n",
       "      <td>111</td>\n",
       "    </tr>\n",
       "    <tr>\n",
       "      <th>2</th>\n",
       "      <td>Arizona</td>\n",
       "      <td>211</td>\n",
       "    </tr>\n",
       "    <tr>\n",
       "      <th>0</th>\n",
       "      <td>Oregon</td>\n",
       "      <td>320</td>\n",
       "    </tr>\n",
       "    <tr>\n",
       "      <th>1</th>\n",
       "      <td>California</td>\n",
       "      <td>331</td>\n",
       "    </tr>\n",
       "  </tbody>\n",
       "</table>\n",
       "</div>"
      ],
      "text/plain": [
       "        state  count\n",
       "3      Nevada     98\n",
       "4  Washington    111\n",
       "2     Arizona    211\n",
       "0      Oregon    320\n",
       "1  California    331"
      ]
     },
     "execution_count": 21,
     "metadata": {},
     "output_type": "execute_result"
    }
   ],
   "source": [
    "mkt_d1.sort_values(by=\"count\", ascending=True)"
   ]
  },
  {
   "cell_type": "code",
   "execution_count": 22,
   "id": "f67ca647-ed4d-4ab6-9444-8a20af6c61fb",
   "metadata": {},
   "outputs": [
    {
     "name": "stdout",
     "output_type": "stream",
     "text": [
      "1071\n",
      "Percentage of 320 is 29.878618113912232\n",
      "Percentage of 331 is 30.905695611577965\n",
      "Percentage of 211 is 19.70121381886088\n",
      "Percentage of 98 is 9.15032679738562\n",
      "Percentage of 111 is 10.364145658263306\n"
     ]
    }
   ],
   "source": [
    "a = 0\n",
    "for i in mkt_d1[\"count\"]:\n",
    "    a+=i\n",
    "print(a)\n",
    "for p in mkt_d1[\"count\"]:\n",
    "    print(f\"Percentage of {p} is {p/a*100}\")"
   ]
  },
  {
   "cell_type": "code",
   "execution_count": 23,
   "id": "7f0bd59e-cf1b-4fd5-a66d-6ac27ed45780",
   "metadata": {},
   "outputs": [
    {
     "data": {
      "text/plain": [
       "320"
      ]
     },
     "execution_count": 23,
     "metadata": {},
     "output_type": "execute_result"
    }
   ],
   "source": [
    "mkt_d1[\"count\"][0]"
   ]
  },
  {
   "cell_type": "markdown",
   "id": "299e9fda-891f-49c3-a2ea-2c58640a19d9",
   "metadata": {},
   "source": [
    "Hello marketing team, please observe our findings below. Please take into consideration that we have taken the liberty to clean up the data and merge duplicates.\n",
    "\n",
    "States by least amont of entries:\n",
    "\n",
    "- Nevada, 98 customers (9.2%)\n",
    "- Washington, 111 customers (10.4%)\n",
    "- Arizona, 211 customers (19.7%)\n",
    "- Oregon, 320 customers (29.9%)\n",
    "- California, 331 (30.9%)"
   ]
  },
  {
   "cell_type": "markdown",
   "id": "0ce80f43-4afa-43c7-a78a-c917444da4e0",
   "metadata": {},
   "source": [
    "### Exercise 2\n",
    "\n",
    "The sales team wants to know the total number of policies sold for each type of policy. Create a pandas Series object that contains the policy types and their total number of policies sold, and then retrieve the policy type with the highest number of policies sold."
   ]
  },
  {
   "cell_type": "markdown",
   "id": "a9f13997-1555-4f98-aca6-970fda1d2c3f",
   "metadata": {},
   "source": [
    "*Hint:*\n",
    "- *Using value_counts() method simplifies this analysis.*\n",
    "- *Futhermore, there is a method that returns the index of the maximum value in a column or row.*\n"
   ]
  },
  {
   "cell_type": "code",
   "execution_count": 24,
   "id": "bcfad6c1-9af2-4b0b-9aa9-0dc5c17473c0",
   "metadata": {},
   "outputs": [
    {
     "data": {
      "text/plain": [
       "Policy Type\n",
       "Personal Auto     780\n",
       "Corporate Auto    234\n",
       "Special Auto       57\n",
       "Name: count, dtype: int64"
      ]
     },
     "execution_count": 24,
     "metadata": {},
     "output_type": "execute_result"
    }
   ],
   "source": [
    "# Your code here\n",
    "\n",
    "insurance_df[\"Policy Type\"].value_counts()\n"
   ]
  },
  {
   "cell_type": "code",
   "execution_count": 25,
   "id": "24b72c2f-7aad-431c-a367-f6827430f601",
   "metadata": {},
   "outputs": [
    {
     "data": {
      "text/plain": [
       "count              1071\n",
       "unique                3\n",
       "top       Personal Auto\n",
       "freq                780\n",
       "Name: Policy Type, dtype: object"
      ]
     },
     "execution_count": 25,
     "metadata": {},
     "output_type": "execute_result"
    }
   ],
   "source": [
    "insurance_df[\"Policy Type\"].describe()"
   ]
  },
  {
   "cell_type": "markdown",
   "id": "0b863fd3-bf91-4d5d-86eb-be29ed9f5b70",
   "metadata": {},
   "source": [
    "### Exercise 3\n",
    "\n",
    "The sales team wants to know if customers with Personal Auto have a lower income than those with Corporate Auto. How does the average income compare between the two policy types?"
   ]
  },
  {
   "cell_type": "markdown",
   "id": "b1386d75-2810-4aa1-93e0-9485aa12d552",
   "metadata": {},
   "source": [
    "- Use *loc* to create two dataframes: one containing only Personal Auto policies and one containing only Corporate Auto policies.\n",
    "- Calculate the average income for each policy.\n",
    "- Print the results."
   ]
  },
  {
   "cell_type": "code",
   "execution_count": 37,
   "id": "0c0563cf-6f8b-463d-a321-651a972f82e5",
   "metadata": {},
   "outputs": [
    {
     "data": {
      "text/plain": [
       "Income   Policy Type   \n",
       "0.0      Personal Auto     189\n",
       "         Corporate Auto     55\n",
       "         Special Auto        8\n",
       "17622.0  Personal Auto       4\n",
       "20396.0  Personal Auto       2\n",
       "95697.0  Personal Auto       2\n",
       "28142.0  Personal Auto       2\n",
       "74454.0  Personal Auto       2\n",
       "67763.0  Personal Auto       2\n",
       "26049.0  Personal Auto       2\n",
       "Name: count, dtype: int64"
      ]
     },
     "execution_count": 37,
     "metadata": {},
     "output_type": "execute_result"
    }
   ],
   "source": [
    "# Your code here\n",
    "\n",
    "ex3 = [\"Income\", \"Policy Type\"]\n",
    "\n",
    "insurance_df[ex3].value_counts().head(10)\n",
    "\n"
   ]
  },
  {
   "cell_type": "code",
   "execution_count": 58,
   "id": "73014fc2-8b27-4638-834c-a486e506c27b",
   "metadata": {},
   "outputs": [
    {
     "data": {
      "text/plain": [
       "Income    39295.701214\n",
       "dtype: float64"
      ]
     },
     "execution_count": 58,
     "metadata": {},
     "output_type": "execute_result"
    }
   ],
   "source": [
    "#insurance_df.filter(items=[\"Income\", \"Policy Type\"==\"Personal Auto\"]).mean()"
   ]
  },
  {
   "cell_type": "code",
   "execution_count": 61,
   "id": "eb81b6d1-a09a-4cd2-83d8-d11c52e3c657",
   "metadata": {},
   "outputs": [
    {
     "data": {
      "text/plain": [
       "Income    39295.701214\n",
       "dtype: float64"
      ]
     },
     "execution_count": 61,
     "metadata": {},
     "output_type": "execute_result"
    }
   ],
   "source": [
    "#insurance_df.filter(items=[\"Income\", \"Policy Type\"==\"Corporate Auto\"]).mean()"
   ]
  },
  {
   "cell_type": "code",
   "execution_count": 85,
   "id": "3ca4a4f9-a1f1-46f6-b4d7-2a5cc3699e89",
   "metadata": {},
   "outputs": [],
   "source": [
    "ex3_personal_filter_df = insurance_df[insurance_df[\"Policy Type\"] == \"Personal Auto\"]\n",
    "\n",
    "# Boolean evaluation could also be anything else, for example instead of\n",
    "# [insurance_df[\"Policy Type\"] == \"Personal Auto\"]\n",
    "# it could be\n",
    "# [insurance_df[\"Policy Type\"] == \"Personal Auto\" or \"Corporate Auto\"]\n",
    "# or\n",
    "# [insurance_df[\"Income\"] >= 40000]"
   ]
  },
  {
   "cell_type": "code",
   "execution_count": 78,
   "id": "643bd49c-5055-40a1-a6ea-7c00a96a8e93",
   "metadata": {},
   "outputs": [
    {
     "name": "stdout",
     "output_type": "stream",
     "text": [
      "38180.7\n"
     ]
    }
   ],
   "source": [
    "personal_auto_income_mean = ex3_personal_filter_df[\"Income\"].mean().round(1)\n",
    "print(personal_auto_income_mean)"
   ]
  },
  {
   "cell_type": "code",
   "execution_count": 79,
   "id": "c1fc8f92-dd3e-42c7-acf3-9b69da83137b",
   "metadata": {},
   "outputs": [],
   "source": [
    "ex3_corporate_filter_df = insurance_df[insurance_df[\"Policy Type\"] == \"Corporate Auto\"]"
   ]
  },
  {
   "cell_type": "code",
   "execution_count": 80,
   "id": "20f4cc3b-80aa-4a87-9bb9-cd172ad27c50",
   "metadata": {},
   "outputs": [
    {
     "name": "stdout",
     "output_type": "stream",
     "text": [
      "41390.3\n"
     ]
    }
   ],
   "source": [
    "corporate_auto_income_mean = ex3_corporate_filter_df[\"Income\"].mean().round(1)\n",
    "print(corporate_auto_income_mean)"
   ]
  },
  {
   "cell_type": "code",
   "execution_count": 81,
   "id": "860cffa0-c2c1-4ec0-b486-4f87dd87d3f5",
   "metadata": {},
   "outputs": [
    {
     "name": "stdout",
     "output_type": "stream",
     "text": [
      "Hello Sales team: The average income of customers with the Personal Auto policy is 38180.7, while the average income of customers with the Corporate Auto policy is 41390.3\n"
     ]
    }
   ],
   "source": [
    "print(f\"Hello Sales team: The average income of customers with the Personal Auto policy is {personal_auto_income_mean}, while the average income of customers with the Corporate Auto policy is {corporate_auto_income_mean}\")"
   ]
  },
  {
   "cell_type": "code",
   "execution_count": 54,
   "id": "6732b99a-ca5d-4484-b8f0-2bba8db77863",
   "metadata": {},
   "outputs": [
    {
     "data": {
      "text/html": [
       "<div>\n",
       "<style scoped>\n",
       "    .dataframe tbody tr th:only-of-type {\n",
       "        vertical-align: middle;\n",
       "    }\n",
       "\n",
       "    .dataframe tbody tr th {\n",
       "        vertical-align: top;\n",
       "    }\n",
       "\n",
       "    .dataframe thead th {\n",
       "        text-align: right;\n",
       "    }\n",
       "</style>\n",
       "<table border=\"1\" class=\"dataframe\">\n",
       "  <thead>\n",
       "    <tr style=\"text-align: right;\">\n",
       "      <th></th>\n",
       "      <th>Income</th>\n",
       "      <th>Policy Type</th>\n",
       "    </tr>\n",
       "  </thead>\n",
       "  <tbody>\n",
       "    <tr>\n",
       "      <th>0</th>\n",
       "      <td>0.0</td>\n",
       "      <td>Personal Auto</td>\n",
       "    </tr>\n",
       "    <tr>\n",
       "      <th>1</th>\n",
       "      <td>0.0</td>\n",
       "      <td>Personal Auto</td>\n",
       "    </tr>\n",
       "    <tr>\n",
       "      <th>2</th>\n",
       "      <td>48767.0</td>\n",
       "      <td>Personal Auto</td>\n",
       "    </tr>\n",
       "    <tr>\n",
       "      <th>3</th>\n",
       "      <td>0.0</td>\n",
       "      <td>Corporate Auto</td>\n",
       "    </tr>\n",
       "    <tr>\n",
       "      <th>4</th>\n",
       "      <td>36357.0</td>\n",
       "      <td>Personal Auto</td>\n",
       "    </tr>\n",
       "    <tr>\n",
       "      <th>...</th>\n",
       "      <td>...</td>\n",
       "      <td>...</td>\n",
       "    </tr>\n",
       "    <tr>\n",
       "      <th>4003</th>\n",
       "      <td>NaN</td>\n",
       "      <td>NaN</td>\n",
       "    </tr>\n",
       "    <tr>\n",
       "      <th>4004</th>\n",
       "      <td>NaN</td>\n",
       "      <td>NaN</td>\n",
       "    </tr>\n",
       "    <tr>\n",
       "      <th>4005</th>\n",
       "      <td>NaN</td>\n",
       "      <td>NaN</td>\n",
       "    </tr>\n",
       "    <tr>\n",
       "      <th>4006</th>\n",
       "      <td>NaN</td>\n",
       "      <td>NaN</td>\n",
       "    </tr>\n",
       "    <tr>\n",
       "      <th>4007</th>\n",
       "      <td>NaN</td>\n",
       "      <td>NaN</td>\n",
       "    </tr>\n",
       "  </tbody>\n",
       "</table>\n",
       "<p>4008 rows × 2 columns</p>\n",
       "</div>"
      ],
      "text/plain": [
       "       Income     Policy Type\n",
       "0         0.0   Personal Auto\n",
       "1         0.0   Personal Auto\n",
       "2     48767.0   Personal Auto\n",
       "3         0.0  Corporate Auto\n",
       "4     36357.0   Personal Auto\n",
       "...       ...             ...\n",
       "4003      NaN             NaN\n",
       "4004      NaN             NaN\n",
       "4005      NaN             NaN\n",
       "4006      NaN             NaN\n",
       "4007      NaN             NaN\n",
       "\n",
       "[4008 rows x 2 columns]"
      ]
     },
     "execution_count": 54,
     "metadata": {},
     "output_type": "execute_result"
    }
   ],
   "source": [
    "#insurance_df[::1][ex3]"
   ]
  },
  {
   "cell_type": "code",
   "execution_count": 82,
   "id": "0c7e0f3d-d0e3-434b-af0f-6adbac9ad4aa",
   "metadata": {},
   "outputs": [],
   "source": [
    "#insurance_df.loc[0][0]"
   ]
  },
  {
   "cell_type": "code",
   "execution_count": 83,
   "id": "fef69ac6-68f1-4421-b710-ee6bcdad1512",
   "metadata": {},
   "outputs": [],
   "source": [
    "#insurance_df[\"Policy Type\"].describe(include=\"Personal Auto\")"
   ]
  },
  {
   "cell_type": "code",
   "execution_count": 84,
   "id": "321840c4-185f-42f2-86d9-0ef52a418156",
   "metadata": {},
   "outputs": [],
   "source": [
    "#insurance_df[\"Policy Type\"].Income.mean()"
   ]
  },
  {
   "cell_type": "markdown",
   "id": "80b16c27-f4a5-4727-a229-1f88671cf4e2",
   "metadata": {},
   "source": [
    "### Bonus: Exercise 4\n"
   ]
  },
  {
   "cell_type": "markdown",
   "id": "ac584986-299b-475f-ac2e-928c16c3f512",
   "metadata": {},
   "source": [
    "Your goal is to identify customers with a high policy claim amount.\n",
    "\n",
    "Instructions:\n",
    "\n",
    "- Review again the statistics for total claim amount to gain an understanding of the data.\n",
    "- To identify potential areas for improving customer retention and profitability, we want to focus on customers with a high policy claim amount. Consider customers with a high policy claim amount to be those in the top 25% of the total claim amount. Create a pandas DataFrame object that contains information about customers with a policy claim amount greater than the 75th percentile.\n",
    "- Use DataFrame methods to calculate summary statistics about the high policy claim amount data. "
   ]
  },
  {
   "cell_type": "markdown",
   "id": "4e3af5f1-6023-4b05-9c01-d05392daa650",
   "metadata": {},
   "source": [
    "*Note: When analyzing data, we often want to focus on certain groups of values to gain insights. Percentiles are a useful tool to help us define these groups. A percentile is a measure that tells us what percentage of values in a dataset are below a certain value. For example, the 75th percentile represents the value below which 75% of the data falls. Similarly, the 25th percentile represents the value below which 25% of the data falls. When we talk about the top 25%, we are referring to the values that fall above the 75th percentile, which represent the top quarter of the data. On the other hand, when we talk about the bottom 25%, we are referring to the values that fall below the 25th percentile, which represent the bottom quarter of the data. By focusing on these groups, we can identify patterns and trends that may be useful for making decisions and taking action.*\n",
    "\n",
    "*Hint: look for a method that gives you the percentile or quantile 0.75 and 0.25 for a Pandas Series.*"
   ]
  },
  {
   "cell_type": "markdown",
   "id": "2d234634-50bd-41e0-88f7-d5ba684455d1",
   "metadata": {},
   "source": [
    "*Hint 2: check `Boolean selection according to the values of a single column` in https://towardsdatascience.com/filtering-data-frames-in-pandas-b570b1f834b9*"
   ]
  },
  {
   "cell_type": "code",
   "execution_count": null,
   "id": "b731bca6-a760-4860-a27b-a33efa712ce0",
   "metadata": {},
   "outputs": [],
   "source": [
    "# Your code here"
   ]
  }
 ],
 "metadata": {
  "kernelspec": {
   "display_name": "Python 3 (ipykernel)",
   "language": "python",
   "name": "python3"
  },
  "language_info": {
   "codemirror_mode": {
    "name": "ipython",
    "version": 3
   },
   "file_extension": ".py",
   "mimetype": "text/x-python",
   "name": "python",
   "nbconvert_exporter": "python",
   "pygments_lexer": "ipython3",
   "version": "3.12.4"
  }
 },
 "nbformat": 4,
 "nbformat_minor": 5
}
